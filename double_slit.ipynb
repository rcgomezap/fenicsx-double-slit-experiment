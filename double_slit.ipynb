{
 "cells": [
  {
   "cell_type": "markdown",
   "metadata": {},
   "source": [
    "# The Double Slit Experiment - FEniCSx\n",
    "Author: Roberto Carlos Gómez Araque\n",
    "\n",
    "This notebook demonstrates the simulation of the classic double slit experiment using the finite element method with FEniCSx. We solve the Helmholtz equation to model acoustic wave propagation through a domain with two narrow slits.\n",
    "\n",
    "![Module of the pressure field](result_p_modulus.png)\n",
    "\n",
    "## Problem Description\n",
    "\n",
    "The double slit experiment involves:\n",
    "- An acoustic wave source at the inlet boundary\n",
    "- A barrier with two narrow slits\n",
    "- Wave propagation and interference patterns in the domain\n",
    "- Absorbing boundary conditions to prevent reflections\n",
    "\n",
    "### From Wave Equation to Helmholtz Equation\n",
    "\n",
    "We start with the **acoustic wave equation** in a homogeneous medium:\n",
    "$$\\frac{\\partial^2 p}{\\partial t^2} = c^2 \\nabla^2 p$$\n",
    "\n",
    "where:\n",
    "- $p(x,y,t)$ is the acoustic pressure\n",
    "- $c$ is the speed of sound\n",
    "- $t$ is time\n",
    "\n",
    "For **time-harmonic solutions**, we assume the pressure varies sinusoidally in time:\n",
    "$$p(x,y,t) = \\text{Re}[p(x,y) e^{i\\omega t}]$$\n",
    "\n",
    "where $\\omega$ is the angular frequency and $p(x,y)$ is the complex amplitude.\n",
    "\n",
    "### Why Complex Numbers?\n",
    "\n",
    "Complex representation is essential because:\n",
    "1. **Phase information**: The imaginary part captures phase relationships between waves\n",
    "2. **Superposition**: Complex arithmetic naturally handles wave interference\n",
    "3. **Boundary conditions**: Absorbing boundaries require complex impedance\n",
    "4. **Mathematical convenience**: Derivatives become algebraic operations\n",
    "\n",
    "Substituting the time-harmonic ansatz into the wave equation:\n",
    "$$\\frac{\\partial^2}{\\partial t^2}[p(x,y) e^{i\\omega t}] = c^2 \\nabla^2 [p(x,y) e^{i\\omega t}]$$\n",
    "\n",
    "$$-\\omega^2 p(x,y) e^{i\\omega t} = c^2 \\nabla^2 p(x,y) e^{i\\omega t}$$\n",
    "\n",
    "Dividing by $e^{i\\omega t}$ and rearranging gives the **Helmholtz equation**:\n",
    "$$\\nabla^2 p + k^2 p = 0$$\n",
    "\n",
    "where $k = \\omega/c$ is the wave number, representing the spatial frequency of the wave.\n",
    "\n",
    "### Boundary Conditions\n",
    "\n",
    "The simulation requires different boundary conditions on different parts of the domain boundary:\n",
    "\n",
    "1. **Inlet boundary ($\\Gamma_{in}$)**: Dirichlet condition\n",
    "   $$p = p_{in} \\quad \\text{on } \\Gamma_{in}$$\n",
    "   This prescribes the incident wave amplitude and phase.\n",
    "\n",
    "2. **Wall boundaries ($\\Gamma_{wall}$)**: Neumann condition (hard walls)\n",
    "   $$\\frac{\\partial p}{\\partial n} = 0 \\quad \\text{on } \\Gamma_{wall}$$\n",
    "   This represents perfect reflection (no normal velocity through solid walls).\n",
    "\n",
    "3. **Absorbing boundaries ($\\Gamma_{abs}$)**: Robin condition\n",
    "   $$\\frac{\\partial p}{\\partial n} + ik p = 0 \\quad \\text{on } \\Gamma_{abs}$$\n",
    "   This approximates an infinite domain by absorbing outgoing waves.\n",
    "\n",
    "These boundary conditions ensure:\n",
    "- Controlled wave generation at the inlet\n",
    "- Perfect reflection from solid barriers\n",
    "- Minimal reflections from artificial boundaries"
   ]
  },
  {
   "cell_type": "code",
   "execution_count": 1,
   "metadata": {},
   "outputs": [
    {
     "name": "stdout",
     "output_type": "stream",
     "text": [
      "Info    : Reading 'double_slit_mesh.msh'...\n",
      "Info    : 33 entities\n",
      "Info    : 45295 nodes\n",
      "Info    : 90590 elements\n",
      "Info    : Done reading 'double_slit_mesh.msh'\n"
     ]
    }
   ],
   "source": [
    "from mpi4py import MPI\n",
    "from dolfinx import (\n",
    "    fem,\n",
    "    io,\n",
    "    __version__ as dolfinx_version,\n",
    ")\n",
    "from dolfinx.fem.petsc import LinearProblem\n",
    "import ufl\n",
    "import numpy as np\n",
    "import numpy.typing as npt\n",
    "from packaging.version import Version\n",
    "\n",
    "# Tags coming from the mesh physical groups\n",
    "v_bc_wall_tag = 31\n",
    "v_bc_inlet_tag = 29\n",
    "v_bc_outlet_tag = 30\n",
    "\n",
    "mesh_data = io.gmshio.read_from_msh(\"double_slit_mesh.msh\", MPI.COMM_WORLD, 0, gdim=2)\n",
    "if Version(dolfinx_version) > Version(\"0.9.0\"):\n",
    "    domain = mesh_data.mesh\n",
    "    assert mesh_data.facet_tags is not None\n",
    "    facet_tags = mesh_data.facet_tags\n",
    "else:\n",
    "    domain, boundary_tags, facet_tags = mesh_data"
   ]
  },
  {
   "cell_type": "markdown",
   "metadata": {},
   "source": [
    "## Mesh and Boundary Conditions\n",
    "\n",
    "The simulation domain is loaded from a GMSH mesh file (`double_slit_mesh.msh`) that contains:\n",
    "\n",
    "- **Inlet boundary** (tag 29): Where the acoustic wave is generated\n",
    "- **Outlet boundary** (tag 30): Where waves exit the domain  \n",
    "- **Wall boundaries** (tag 31): Solid barriers including the double slit structure\n",
    "\n",
    "The mesh includes facet tags that identify different boundary regions, allowing us to apply appropriate boundary conditions to each region.\n",
    "\n",
    "The code handles different versions of DOLFINx to ensure compatibility across versions."
   ]
  },
  {
   "cell_type": "markdown",
   "id": "92d8cd12",
   "metadata": {},
   "source": [
    "## Function Space and Physical Parameters\n",
    "\n",
    "We define the function space for our unknown pressure field $p$ and specify the physical parameters for the acoustic wave propagation."
   ]
  },
  {
   "cell_type": "code",
   "execution_count": 2,
   "id": "06cebc38",
   "metadata": {},
   "outputs": [],
   "source": [
    "\n",
    "V = fem.functionspace(domain, (\"Lagrange\", 4))\n",
    "\n",
    "# Air parameters\n",
    "omega = 6 * np.pi * 1000  # Angular frequency (rad/s)\n",
    "rho0 = 1.225  # kg/m^3\n",
    "c = 340  # m/s\n",
    "k = omega / c  # Wave number (1/m)\n",
    "v_n = np.exp(1j * omega * 0)  # Normal velocity amplitude at inlet (m/s)"
   ]
  },
  {
   "cell_type": "markdown",
   "metadata": {},
   "source": [
    "### Function Space\n",
    "- **Lagrange elements of order 4**: Higher-order elements provide better accuracy for wave propagation problems\n",
    "- **Complex-valued**: Required for time-harmonic analysis with phase information\n",
    "\n",
    "### Physical Parameters\n",
    "- **Angular frequency (ω)**: 6π × 1000 rad/s ≈ 3 kHz\n",
    "- **Air density (ρ₀)**: 1.225 kg/m³ (standard air density)\n",
    "- **Sound speed (c)**: 340 m/s (speed of sound in air)\n",
    "- **Wave number (k)**: k = ω/c, determines the wavelength\n",
    "- **Inlet velocity (v_n)**: Complex amplitude of normal velocity at the source"
   ]
  },
  {
   "cell_type": "markdown",
   "metadata": {},
   "source": [
    "## Integration Measures\n",
    "\n",
    "We define the integration measure for boundary integrals using UFL (Unified Form Language)."
   ]
  },
  {
   "cell_type": "code",
   "execution_count": 3,
   "metadata": {},
   "outputs": [],
   "source": [
    "ds = ufl.Measure(\"ds\", domain=domain, subdomain_data=facet_tags)"
   ]
  },
  {
   "cell_type": "markdown",
   "metadata": {},
   "source": [
    "The `ds` measure allows us to integrate over specific boundary segments using the facet tags:\n",
    "- `ds(v_bc_inlet_tag)`: Integration over the inlet boundary\n",
    "- `ds(v_bc_outlet_tag)`: Integration over the outlet boundary  \n",
    "- `ds(v_bc_wall_tag)`: Integration over wall boundaries"
   ]
  },
  {
   "cell_type": "markdown",
   "metadata": {},
   "source": [
    "## Variational Formulation\n",
    "\n",
    "We formulate the weak form of the Helmholtz equation with appropriate boundary conditions for the double slit problem.\n",
    "\n",
    "### Mathematical Derivation\n",
    "\n",
    "Starting from the Helmholtz equation:\n",
    "$$\\nabla^2 p + k^2 p = 0 \\quad \\text{in } \\Omega$$\n",
    "\n",
    "Multiply by a test function $v$ and integrate over the domain:\n",
    "$$\\int_\\Omega (\\nabla^2 p + k^2 p) \\overline{v} \\, d\\Omega = 0$$\n",
    "\n",
    "Using integration by parts on the Laplacian term:\n",
    "$$\\int_\\Omega \\nabla^2 p \\cdot \\overline{v} \\, d\\Omega = -\\int_\\Omega \\nabla p \\cdot \\nabla \\overline{v} \\, d\\Omega + \\int_{\\partial\\Omega} \\frac{\\partial p}{\\partial n} \\overline{v} \\, ds$$\n",
    "\n",
    "This gives the **weak formulation**:\n",
    "$$-\\int_\\Omega \\nabla p \\cdot \\nabla \\overline{v} \\, d\\Omega + k^2 \\int_\\Omega p \\overline{v} \\, d\\Omega + \\int_{\\partial\\Omega} \\frac{\\partial p}{\\partial n} \\overline{v} \\, ds = 0$$\n",
    "\n",
    "### Boundary Term Treatment\n",
    "\n",
    "The boundary integral is handled differently on each boundary:\n",
    "\n",
    "1. **Wall boundaries**: $\\frac{\\partial p}{\\partial n} = 0$, so the boundary term vanishes.\n",
    "\n",
    "2. **Absorbing boundaries**: $\\frac{\\partial p}{\\partial n} = -ik p$, giving:\n",
    "   $$\\int_{\\Gamma_{abs}} \\frac{\\partial p}{\\partial n} \\overline{v} \\, ds = -ik \\int_{\\Gamma_{abs}} p \\overline{v} \\, ds$$\n",
    "\n",
    "3. **Inlet boundary**: Dirichlet condition is enforced directly, but we can include a source term:\n",
    "   $$\\int_{\\Gamma_{in}} \\frac{\\partial p}{\\partial n} \\overline{v} \\, ds = -i\\omega\\rho_0 \\int_{\\Gamma_{in}} v_n \\overline{v} \\, ds$$\n",
    "\n",
    "### Final Variational Form\n",
    "\n",
    "The complete variational formulation becomes:\n",
    "\n",
    "**Find** $p \\in V$ such that $a(p,v) = L(v)$ for all $v \\in V$, where:\n",
    "\n",
    "$$a(p,v) = \\int_\\Omega \\nabla p \\cdot \\nabla \\overline{v} \\, d\\Omega - k^2 \\int_\\Omega p \\overline{v} \\, d\\Omega - ik \\int_{\\Gamma_{abs}} p \\overline{v} \\, ds$$\n",
    "\n",
    "$$L(v) = -i\\omega\\rho_0 \\int_{\\Gamma_{in}} v_n \\overline{v} \\, ds$$\n",
    "\n",
    "where $V$ is the appropriate function space and $\\overline{v}$ denotes the complex conjugate."
   ]
  },
  {
   "cell_type": "code",
   "execution_count": 4,
   "metadata": {},
   "outputs": [],
   "source": [
    "p = ufl.TrialFunction(V)\n",
    "v = ufl.TestFunction(V)\n",
    "\n",
    "a = (\n",
    "    ufl.inner(ufl.grad(p), ufl.grad(v)) * ufl.dx\n",
    "    - (k**2)*p*ufl.conj(v) * ufl.dx\n",
    "    - 1j*k * p * ufl.conj(v) * ds\n",
    "    - k**2 * ufl.inner(p, v) * ufl.dx\n",
    ")\n",
    "L = -1j * omega * rho0 * ufl.inner(v_n, v) *ds(v_bc_inlet_tag)"
   ]
  },
  {
   "cell_type": "markdown",
   "metadata": {},
   "source": [
    "## Boundary Conditions and Solution\n",
    "\n",
    "We apply Dirichlet boundary conditions at the inlet and solve the linear system using PETSc."
   ]
  },
  {
   "cell_type": "code",
   "execution_count": 5,
   "metadata": {},
   "outputs": [],
   "source": [
    "bc_inlet = fem.dirichletbc(v_n, fem.locate_dofs_topological(V, domain.topology.dim - 1, facet_tags.find(v_bc_inlet_tag)), V)"
   ]
  },
  {
   "cell_type": "markdown",
   "metadata": {},
   "source": [
    "### Inlet Boundary Condition\n",
    "- **Dirichlet BC**: Prescribes the pressure amplitude at the inlet\n",
    "- **DOF location**: Uses topological information to find degrees of freedom on the inlet boundary\n",
    "- This ensures a controlled wave source at the inlet"
   ]
  },
  {
   "cell_type": "code",
   "execution_count": 6,
   "metadata": {
    "lines_to_end_of_cell_marker": 2
   },
   "outputs": [],
   "source": [
    "p_a = fem.Function(V)\n",
    "p_a.name = \"pressure\"\n",
    "\n",
    "problem = LinearProblem(\n",
    "    a,\n",
    "    L,\n",
    "    u=p_a,\n",
    "    petsc_options={\n",
    "        \"ksp_type\": \"preonly\",\n",
    "        \"pc_type\": \"lu\",\n",
    "        \"pc_factor_mat_solver_type\": \"mumps\",\n",
    "    },\n",
    "    bcs=[bc_inlet],\n",
    ")"
   ]
  },
  {
   "cell_type": "markdown",
   "metadata": {},
   "source": [
    "### Linear Problem Setup\n",
    "- **Solution function**: `p_a` stores the computed pressure field\n",
    "- **PETSc options**: \n",
    "  - `\"ksp_type\": \"preonly\"`: Direct solver (no iterative method)\n",
    "  - `\"pc_type\": \"lu\"`: LU decomposition for direct factorization\n",
    "  - MUMPS option for parallel direct solving\n",
    "- **Boundary conditions**: Applied at the inlet"
   ]
  },
  {
   "cell_type": "code",
   "execution_count": 7,
   "metadata": {},
   "outputs": [],
   "source": [
    "\n",
    "problem.solve()\n",
    "p_a.x.scatter_forward()"
   ]
  },
  {
   "cell_type": "markdown",
   "metadata": {},
   "source": [
    "### Solving the System\n",
    "1. **solve()**: Assembles and solves the linear system Ax = b\n",
    "2. **scatter_forward()**: Ensures proper distribution of solution data across MPI processes\n",
    "\n",
    "The solution `p_a` now contains the complex pressure field showing wave propagation and interference patterns through the double slit."
   ]
  },
  {
   "cell_type": "code",
   "execution_count": 8,
   "metadata": {},
   "outputs": [],
   "source": [
    "with io.VTKFile(domain.comm, \"solution.pvd\", \"w\") as file:\n",
    "    file.write_mesh(domain)\n",
    "    file.write_function([p_a])"
   ]
  },
  {
   "cell_type": "markdown",
   "metadata": {},
   "source": [
    "## Output and Visualization\n",
    "\n",
    "The solution is written to a ParaView format file (`solution.pvd`) for visualization:\n",
    "\n",
    "- **Mesh geometry**: Domain structure including the double slit barrier\n",
    "- **Pressure field**: Complex-valued solution showing wave amplitude and phase\n",
    "- **Visualization**: Can be opened in ParaView to see:\n",
    "  - Wave propagation from inlet\n",
    "  - Diffraction through the slits  \n",
    "  - Interference patterns downstream\n",
    "  - Wave amplitude and phase distributions"
   ]
  }
 ],
 "metadata": {
  "jupytext": {
   "formats": "ipynb,py:light"
  },
  "kernelspec": {
   "display_name": "dolfinx-env (3.12.3)",
   "language": "python",
   "name": "python3"
  },
  "language_info": {
   "codemirror_mode": {
    "name": "ipython",
    "version": 3
   },
   "file_extension": ".py",
   "mimetype": "text/x-python",
   "name": "python",
   "nbconvert_exporter": "python",
   "pygments_lexer": "ipython3",
   "version": "3.12.3"
  }
 },
 "nbformat": 4,
 "nbformat_minor": 2
}
