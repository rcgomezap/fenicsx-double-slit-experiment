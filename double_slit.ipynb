{
 "cells": [
  {
   "cell_type": "markdown",
   "metadata": {},
   "source": [
    "# The Double Slit Experiment - FEniCSx\n",
    "\n",
    "This notebook demonstrates the simulation of the classic double slit experiment using the finite element method with FEniCSx. We solve the Helmholtz equation to model acoustic wave propagation through a domain with two narrow slits.\n",
    "\n",
    "## Problem Description\n",
    "\n",
    "The double slit experiment involves:\n",
    "- An acoustic wave source at the inlet boundary\n",
    "- A barrier with two narrow slits\n",
    "- Wave propagation and interference patterns in the domain\n",
    "- Absorbing boundary conditions to prevent reflections\n",
    "\n",
    "We solve the time-harmonic Helmholtz equation:\n",
    "$$\\nabla^2 p + k^2 p = 0$$\n",
    "\n",
    "where $p$ is the acoustic pressure and $k = \\omega/c$ is the wave number."
   ]
  },
  {
   "cell_type": "code",
   "execution_count": null,
   "metadata": {},
   "outputs": [
    {
     "name": "stdout",
     "output_type": "stream",
     "text": [
      "Info    : Reading 'double_slit_mesh.msh'...\n",
      "Info    : 33 entities\n",
      "Info    : 45295 nodes\n",
      "Info    : 90590 elements\n",
      "Info    : Done reading 'double_slit_mesh.msh'\n"
     ]
    },
    {
     "data": {
      "text/plain": [
       "array([], dtype=int32)"
      ]
     },
     "execution_count": 460,
     "metadata": {},
     "output_type": "execute_result"
    }
   ],
   "source": [
    "from mpi4py import MPI\n",
    "from dolfinx import (\n",
    "    fem,\n",
    "    io,\n",
    "    __version__ as dolfinx_version,\n",
    ")\n",
    "from dolfinx.fem.petsc import LinearProblem\n",
    "import ufl\n",
    "import numpy as np\n",
    "import numpy.typing as npt\n",
    "from packaging.version import Version\n",
    "\n",
    "\n",
    "v_bc_wall_tag = 31\n",
    "v_bc_inlet_tag = 29\n",
    "v_bc_outlet_tag = 30\n",
    "mesh_data = io.gmshio.read_from_msh(\"double_slit_mesh.msh\", MPI.COMM_WORLD, 0, gdim=2)\n",
    "if Version(dolfinx_version) > Version(\"0.9.0\"):\n",
    "    domain = mesh_data.mesh\n",
    "    assert mesh_data.facet_tags is not None\n",
    "    facet_tags = mesh_data.facet_tags\n",
    "else:\n",
    "    domain, boundary_tags, facet_tags = mesh_data\n",
    "\n",
    "domain.topology.create_connectivity(domain.topology.dim - 1, domain.topology.dim)"
   ]
  },
  {
   "cell_type": "markdown",
   "metadata": {},
   "source": [
    "## Mesh and Boundary Conditions\n",
    "\n",
    "The simulation domain is loaded from a GMSH mesh file (`double_slit_mesh.msh`) that contains:\n",
    "\n",
    "- **Inlet boundary** (tag 29): Where the acoustic wave is generated\n",
    "- **Outlet boundary** (tag 30): Where waves exit the domain  \n",
    "- **Wall boundaries** (tag 31): Solid barriers including the double slit structure\n",
    "\n",
    "The mesh includes facet tags that identify different boundary regions, allowing us to apply appropriate boundary conditions to each region.\n",
    "\n",
    "The code handles different versions of DOLFINx to ensure compatibility across versions."
   ]
  },
  {
   "cell_type": "markdown",
   "id": "92d8cd12",
   "metadata": {},
   "source": [
    "## Function Space and Physical Parameters\n",
    "\n",
    "We define the function space for our unknown pressure field $p$ and specify the physical parameters for the acoustic wave propagation."
   ]
  },
  {
   "cell_type": "code",
   "execution_count": 461,
   "id": "06cebc38",
   "metadata": {},
   "outputs": [],
   "source": [
    "\n",
    "V = fem.functionspace(domain, (\"Lagrange\", 4))\n",
    "\n",
    "# Air parameters\n",
    "omega = 6 * np.pi * 1000  # Angular frequency (rad/s)\n",
    "rho0 = 1.225  # kg/m^3\n",
    "c = 340  # m/s\n",
    "k = omega / c  # Wave number (1/m)\n",
    "v_n = np.exp(1j * omega * 0)  # Normal velocity amplitude at inlet (m/s)"
   ]
  },
  {
   "cell_type": "markdown",
   "metadata": {},
   "source": [
    "### Function Space\n",
    "- **Lagrange elements of order 4**: Higher-order elements provide better accuracy for wave propagation problems\n",
    "- **Complex-valued**: Required for time-harmonic analysis with phase information\n",
    "\n",
    "### Physical Parameters\n",
    "- **Angular frequency (ω)**: 6π × 1000 rad/s ≈ 3 kHz\n",
    "- **Air density (ρ₀)**: 1.225 kg/m³ (standard air density)\n",
    "- **Sound speed (c)**: 340 m/s (speed of sound in air)\n",
    "- **Wave number (k)**: k = ω/c, determines the wavelength\n",
    "- **Inlet velocity (v_n)**: Complex amplitude of normal velocity at the source"
   ]
  },
  {
   "cell_type": "markdown",
   "metadata": {},
   "source": [
    "## Integration Measures\n",
    "\n",
    "We define the integration measure for boundary integrals using UFL (Unified Form Language)."
   ]
  },
  {
   "cell_type": "code",
   "execution_count": 462,
   "metadata": {},
   "outputs": [],
   "source": [
    "ds = ufl.Measure(\"ds\", domain=domain, subdomain_data=facet_tags)"
   ]
  },
  {
   "cell_type": "markdown",
   "metadata": {},
   "source": [
    "The `ds` measure allows us to integrate over specific boundary segments using the facet tags:\n",
    "- `ds(v_bc_inlet_tag)`: Integration over the inlet boundary\n",
    "- `ds(v_bc_outlet_tag)`: Integration over the outlet boundary  \n",
    "- `ds(v_bc_wall_tag)`: Integration over wall boundaries"
   ]
  },
  {
   "cell_type": "markdown",
   "metadata": {},
   "source": [
    "## Variational Formulation\n",
    "\n",
    "We formulate the weak form of the Helmholtz equation with appropriate boundary conditions for the double slit problem."
   ]
  },
  {
   "cell_type": "code",
   "execution_count": 463,
   "metadata": {},
   "outputs": [],
   "source": [
    "p = ufl.TrialFunction(V)\n",
    "v = ufl.TestFunction(V)\n",
    "\n",
    "a = (\n",
    "    ufl.inner(ufl.grad(p), ufl.grad(v)) * ufl.dx\n",
    "    # + 1j * rho0 * omega / Z * ufl.inner(p, v) * ds(v_bc_inlet_tag)\n",
    "    - (k**2)*p*ufl.conj(v) * ufl.dx\n",
    "- 1j*k * p * ufl.conj(v) * ds\n",
    "- k**2 * ufl.inner(p, v) * ufl.dx\n",
    ")\n",
    "L = -1j * omega * rho0 * ufl.inner(v_n, v) *ds(v_bc_inlet_tag)"
   ]
  },
  {
   "cell_type": "markdown",
   "metadata": {},
   "source": [
    "### Bilinear Form (a)\n",
    "The left-hand side contains:\n",
    "1. **∇p · ∇v dx**: Laplacian term from the Helmholtz equation\n",
    "2. **-k²p·v̄ dx**: Wave number term (using complex conjugate of test function)\n",
    "3. **-ik·p·v̄ ds**: Absorbing boundary condition to prevent reflections\n",
    "\n",
    "### Linear Form (L)  \n",
    "The right-hand side represents:\n",
    "- **Source term**: -iωρ₀v_n applied at the inlet boundary\n",
    "- This creates the incident acoustic wave\n",
    "\n",
    "The formulation uses complex arithmetic to handle the time-harmonic nature of the problem."
   ]
  },
  {
   "cell_type": "markdown",
   "metadata": {},
   "source": [
    "## Boundary Conditions and Solution\n",
    "\n",
    "We apply Dirichlet boundary conditions at the inlet and solve the linear system using PETSc."
   ]
  },
  {
   "cell_type": "code",
   "execution_count": null,
   "metadata": {},
   "outputs": [],
   "source": [
    "bc_inlet = fem.dirichletbc(v_n, fem.locate_dofs_topological(V, domain.topology.dim - 1, facet_tags.find(v_bc_inlet_tag)), V)"
   ]
  },
  {
   "cell_type": "markdown",
   "metadata": {},
   "source": [
    "### Inlet Boundary Condition\n",
    "- **Dirichlet BC**: Prescribes the pressure amplitude at the inlet\n",
    "- **DOF location**: Uses topological information to find degrees of freedom on the inlet boundary\n",
    "- This ensures a controlled wave source at the inlet"
   ]
  },
  {
   "cell_type": "code",
   "execution_count": 465,
   "metadata": {
    "lines_to_end_of_cell_marker": 2
   },
   "outputs": [],
   "source": [
    "p_a = fem.Function(V)\n",
    "p_a.name = \"pressure\"\n",
    "\n",
    "problem = LinearProblem(\n",
    "    a,\n",
    "    L,\n",
    "    u=p_a,\n",
    "    petsc_options={\n",
    "        \"ksp_type\": \"preonly\",\n",
    "        \"pc_type\": \"lu\",\n",
    "        # \"pc_factor_mat_solver_type\": \"mumps\",\n",
    "    },\n",
    "    bcs=[bc_inlet],\n",
    ")"
   ]
  },
  {
   "cell_type": "markdown",
   "metadata": {},
   "source": [
    "### Linear Problem Setup\n",
    "- **Solution function**: `p_a` stores the computed pressure field\n",
    "- **PETSc options**: \n",
    "  - `\"ksp_type\": \"preonly\"`: Direct solver (no iterative method)\n",
    "  - `\"pc_type\": \"lu\"`: LU decomposition for direct factorization\n",
    "  - Commented MUMPS option for parallel direct solving\n",
    "- **Boundary conditions**: Applied at the inlet"
   ]
  },
  {
   "cell_type": "code",
   "execution_count": 466,
   "metadata": {},
   "outputs": [],
   "source": [
    "\n",
    "problem.solve()\n",
    "p_a.x.scatter_forward()"
   ]
  },
  {
   "cell_type": "markdown",
   "metadata": {},
   "source": [
    "### Solving the System\n",
    "1. **solve()**: Assembles and solves the linear system Ax = b\n",
    "2. **scatter_forward()**: Ensures proper distribution of solution data across MPI processes\n",
    "\n",
    "The solution `p_a` now contains the complex pressure field showing wave propagation and interference patterns through the double slit."
   ]
  },
  {
   "cell_type": "code",
   "execution_count": 468,
   "metadata": {},
   "outputs": [],
   "source": [
    "with io.VTKFile(domain.comm, \"solution.pvd\", \"w\") as file:\n",
    "    file.write_mesh(domain)\n",
    "    file.write_function([p_a])"
   ]
  },
  {
   "cell_type": "markdown",
   "metadata": {},
   "source": [
    "## Output and Visualization\n",
    "\n",
    "The solution is written to a ParaView format file (`solution.pvd`) for visualization:\n",
    "\n",
    "- **Mesh geometry**: Domain structure including the double slit barrier\n",
    "- **Pressure field**: Complex-valued solution showing wave amplitude and phase\n",
    "- **Visualization**: Can be opened in ParaView to see:\n",
    "  - Wave propagation from inlet\n",
    "  - Diffraction through the slits  \n",
    "  - Interference patterns downstream\n",
    "  - Wave amplitude and phase distributions\n",
    "\n",
    "The results demonstrate the classic double slit interference pattern with constructive and destructive interference regions downstream of the slits."
   ]
  }
 ],
 "metadata": {
  "jupytext": {
   "formats": "ipynb,py:light"
  },
  "kernelspec": {
   "display_name": "dolfinx-env (3.12.3)",
   "language": "python",
   "name": "python3"
  },
  "language_info": {
   "codemirror_mode": {
    "name": "ipython",
    "version": 3
   },
   "file_extension": ".py",
   "mimetype": "text/x-python",
   "name": "python",
   "nbconvert_exporter": "python",
   "pygments_lexer": "ipython3",
   "version": "3.12.3"
  }
 },
 "nbformat": 4,
 "nbformat_minor": 2
}
