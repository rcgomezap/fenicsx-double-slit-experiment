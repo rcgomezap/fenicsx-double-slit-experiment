{
 "cells": [
  {
   "cell_type": "markdown",
   "metadata": {},
   "source": [
    "Then we import the gmsh mesh with the ```dolfinx.io.gmshio``` function."
   ]
  },
  {
   "cell_type": "code",
   "execution_count": 127,
   "metadata": {},
   "outputs": [
    {
     "name": "stdout",
     "output_type": "stream",
     "text": [
      "Info    : Reading 'double_slit_mesh.msh'...\n",
      "Info    : 33 entities\n",
      "Info    : 20676 nodes\n",
      "Info    : 41352 elements\n",
      "Info    : Done reading 'double_slit_mesh.msh'\n"
     ]
    },
    {
     "data": {
      "text/plain": [
       "array([], dtype=int32)"
      ]
     },
     "execution_count": 127,
     "metadata": {},
     "output_type": "execute_result"
    }
   ],
   "source": [
    "from mpi4py import MPI\n",
    "from dolfinx import (\n",
    "    fem,\n",
    "    io,\n",
    "    default_scalar_type,\n",
    "    geometry,\n",
    "    __version__ as dolfinx_version,\n",
    ")\n",
    "from dolfinx.fem.petsc import LinearProblem\n",
    "import ufl\n",
    "import numpy as np\n",
    "import numpy.typing as npt\n",
    "from packaging.version import Version\n",
    "\n",
    "\n",
    "v_bc_wall_tag = 31\n",
    "v_bc_inlet_tag = 29\n",
    "v_bc_outlet_tag = 30\n",
    "mesh_data = io.gmshio.read_from_msh(\"double_slit_mesh.msh\", MPI.COMM_WORLD, 0, gdim=2)\n",
    "if Version(dolfinx_version) > Version(\"0.9.0\"):\n",
    "    domain = mesh_data.mesh\n",
    "    assert mesh_data.facet_tags is not None\n",
    "    facet_tags = mesh_data.facet_tags\n",
    "else:\n",
    "    domain, boundary_tags, facet_tags = mesh_data\n",
    "\n",
    "domain.topology.create_connectivity(domain.topology.dim - 1, domain.topology.dim)\n",
    "\n",
    "# domain.topology.dim\n",
    "boundary_tags.find(v_bc_outlet_tag)"
   ]
  },
  {
   "cell_type": "markdown",
   "id": "92d8cd12",
   "metadata": {},
   "source": [
    "We define the function space for our unknown $p$ and define the range of frequencies we want to solve the Helmholtz equation for."
   ]
  },
  {
   "cell_type": "code",
   "execution_count": 128,
   "id": "06cebc38",
   "metadata": {},
   "outputs": [],
   "source": [
    "\n",
    "V = fem.functionspace(domain, (\"Lagrange\", 2))\n",
    "\n",
    "# Air parameters\n",
    "omega = 6 * np.pi * 1000  # Angular frequency (rad/s)\n",
    "rho0 = 1.225  # kg/m^3\n",
    "c = 340  # m/s\n",
    "k = omega / c  # Wave number (1/m)\n",
    "v_n = np.exp(1j * omega * 0)  # Normal velocity amplitude at inlet (m/s)"
   ]
  },
  {
   "cell_type": "markdown",
   "metadata": {},
   "source": [
    "We also need to specify the integration measure $ds$, by using ```ufl```, and its built in integration measures"
   ]
  },
  {
   "cell_type": "code",
   "execution_count": 129,
   "metadata": {},
   "outputs": [],
   "source": [
    "ds = ufl.Measure(\"ds\", domain=domain, subdomain_data=facet_tags)"
   ]
  },
  {
   "cell_type": "markdown",
   "metadata": {},
   "source": [
    "## Variational Formulation\n",
    "We can now write the variational formulation."
   ]
  },
  {
   "cell_type": "code",
   "execution_count": 130,
   "metadata": {},
   "outputs": [],
   "source": [
    "p = ufl.TrialFunction(V)\n",
    "v = ufl.TestFunction(V)\n",
    "\n",
    "a = (\n",
    "    ufl.inner(ufl.grad(p), ufl.grad(v)) * ufl.dx\n",
    "    # + 1j * rho0 * omega / Z * ufl.inner(p, v) * ds(v_bc_inlet_tag)\n",
    "    - k**2 * ufl.inner(p, v) * ufl.dx\n",
    ")\n",
    "L = -1j * omega * rho0 * ufl.inner(v_n, v) *ds(v_bc_inlet_tag)"
   ]
  },
  {
   "cell_type": "markdown",
   "metadata": {},
   "source": [
    "The class ```LinearProblem``` is used to setup the PETSc backend and assemble the system vector and matrices.\n",
    "The solution will be stored in a `dolfinx.fem.Function`, ```p_a```."
   ]
  },
  {
   "cell_type": "code",
   "execution_count": 131,
   "metadata": {},
   "outputs": [],
   "source": [
    "bc_inlet = fem.dirichletbc(v_n, fem.locate_dofs_topological(V, domain.topology.dim - 1, facet_tags.find(v_bc_inlet_tag)), V)\n",
    "bc_wall = fem.dirichletbc(0.0 + 0j, fem.locate_dofs_topological(V, domain.topology.dim - 1, facet_tags.find(v_bc_wall_tag)), V)\n",
    "\n",
    "# fem.locate_dofs_topological(V, domain.topology.dim - 1, facet_tags.find(v_bc_inlet_tag))\n",
    "# fem.locate_dofs_topological(V, domain.topology.dim - 1, facet_tags.find(v_bc_wall_tag))"
   ]
  },
  {
   "cell_type": "code",
   "execution_count": 132,
   "metadata": {
    "lines_to_end_of_cell_marker": 2
   },
   "outputs": [],
   "source": [
    "p_a = fem.Function(V)\n",
    "p_a.name = \"pressure\"\n",
    "\n",
    "problem = LinearProblem(\n",
    "    a,\n",
    "    L,\n",
    "    u=p_a,\n",
    "    petsc_options={\n",
    "        \"ksp_type\": \"preonly\",\n",
    "        \"pc_type\": \"lu\",\n",
    "        # \"pc_factor_mat_solver_type\": \"mumps\",\n",
    "    },\n",
    "    bcs=[bc_inlet,bc_wall],\n",
    ")"
   ]
  },
  {
   "cell_type": "code",
   "execution_count": 133,
   "metadata": {},
   "outputs": [],
   "source": [
    "\n",
    "problem.solve()\n",
    "p_a.x.scatter_forward()"
   ]
  },
  {
   "cell_type": "code",
   "execution_count": 134,
   "metadata": {},
   "outputs": [
    {
     "data": {
      "text/plain": [
       "np.complex128(2.4816024076270504+0j)"
      ]
     },
     "execution_count": 134,
     "metadata": {},
     "output_type": "execute_result"
    }
   ],
   "source": [
    "p_a.x.array.max()"
   ]
  },
  {
   "cell_type": "code",
   "execution_count": 135,
   "metadata": {},
   "outputs": [],
   "source": [
    "with io.VTKFile(domain.comm, \"solution.pvd\", \"w\") as file:\n",
    "    file.write_mesh(domain)\n",
    "    file.write_function([p_a])"
   ]
  }
 ],
 "metadata": {
  "jupytext": {
   "formats": "ipynb,py:light"
  },
  "kernelspec": {
   "display_name": "dolfinx-env (3.12.3)",
   "language": "python",
   "name": "python3"
  },
  "language_info": {
   "codemirror_mode": {
    "name": "ipython",
    "version": 3
   },
   "file_extension": ".py",
   "mimetype": "text/x-python",
   "name": "python",
   "nbconvert_exporter": "python",
   "pygments_lexer": "ipython3",
   "version": "3.12.3"
  }
 },
 "nbformat": 4,
 "nbformat_minor": 2
}
